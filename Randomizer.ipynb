{
  "nbformat": 4,
  "nbformat_minor": 0,
  "metadata": {
    "colab": {
      "name": "Randomizer.ipynb",
      "provenance": [],
      "collapsed_sections": []
    },
    "kernelspec": {
      "name": "python3",
      "display_name": "Python 3"
    },
    "language_info": {
      "name": "python"
    }
  },
  "cells": [
    {
      "cell_type": "code",
      "metadata": {
        "id": "x1z_QyH8uh4y"
      },
      "source": [
        "import random\n",
        " \n",
        "def randomize(mainList, selectionList, maxLength):\n",
        "    retList = [] \n",
        "    randomIndises = random.sample(range(len(selectionList)), len(selectionList))\n",
        "    for lst in mainList:\n",
        "        tmp = lst\n",
        "        while len(lst)<maxLength and len(randomIndises) >0:\n",
        "            tmp.append(selectionList[randomIndises[0]])\n",
        "            del randomIndises[0]\n",
        "        retList.append(tmp)\n",
        "    return retList"
      ],
      "execution_count": 1,
      "outputs": []
    },
    {
      "cell_type": "code",
      "metadata": {
        "colab": {
          "base_uri": "https://localhost:8080/"
        },
        "id": "LlkneiMH1p_j",
        "outputId": "57337d72-3be8-461b-d3d4-ac3880b1dcfd"
      },
      "source": [
        "mainList = [['a'], \n",
        "            ['b'], \n",
        "            ['c']] \n",
        "selectionList = ['d', 'e', 'f', 'g', 'h', 'i', 'j', 'k', 'l', 'm']\n",
        "rand = randomize(mainList, selectionList, 3)\n",
        "for team in rand:\n",
        "    print(team)"
      ],
      "execution_count": 3,
      "outputs": [
        {
          "output_type": "stream",
          "text": [
            "['a', 'g', 'e']\n",
            "['b', 'm', 'k']\n",
            "['c', 'l', 'j']\n"
          ],
          "name": "stdout"
        }
      ]
    }
  ]
}